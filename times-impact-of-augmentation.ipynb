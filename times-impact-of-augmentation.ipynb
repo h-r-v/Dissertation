{
 "cells": [
  {
   "cell_type": "code",
   "execution_count": 1,
   "id": "666cc17d",
   "metadata": {
    "execution": {
     "iopub.execute_input": "2024-08-25T18:22:15.498591Z",
     "iopub.status.busy": "2024-08-25T18:22:15.498171Z",
     "iopub.status.idle": "2024-08-25T18:22:18.238138Z",
     "shell.execute_reply": "2024-08-25T18:22:18.237071Z"
    },
    "papermill": {
     "duration": 2.748436,
     "end_time": "2024-08-25T18:22:18.240767",
     "exception": false,
     "start_time": "2024-08-25T18:22:15.492331",
     "status": "completed"
    },
    "tags": []
   },
   "outputs": [],
   "source": [
    "import torch\n",
    "import glob\n",
    "import re\n",
    "import matplotlib.pyplot as plt\n",
    "import numpy as np"
   ]
  },
  {
   "cell_type": "code",
   "execution_count": 2,
   "id": "793bd383",
   "metadata": {
    "execution": {
     "iopub.execute_input": "2024-08-25T18:22:18.250474Z",
     "iopub.status.busy": "2024-08-25T18:22:18.249934Z",
     "iopub.status.idle": "2024-08-25T18:22:18.254843Z",
     "shell.execute_reply": "2024-08-25T18:22:18.253795Z"
    },
    "papermill": {
     "duration": 0.012036,
     "end_time": "2024-08-25T18:22:18.256985",
     "exception": false,
     "start_time": "2024-08-25T18:22:18.244949",
     "status": "completed"
    },
    "tags": []
   },
   "outputs": [],
   "source": [
    "x = ['5 Layer UNet (base)','5 Layer UNet with Aug']"
   ]
  },
  {
   "cell_type": "code",
   "execution_count": 3,
   "id": "28dbc5a2",
   "metadata": {
    "execution": {
     "iopub.execute_input": "2024-08-25T18:22:18.265954Z",
     "iopub.status.busy": "2024-08-25T18:22:18.265598Z",
     "iopub.status.idle": "2024-08-25T18:22:18.270166Z",
     "shell.execute_reply": "2024-08-25T18:22:18.269222Z"
    },
    "papermill": {
     "duration": 0.011325,
     "end_time": "2024-08-25T18:22:18.272251",
     "exception": false,
     "start_time": "2024-08-25T18:22:18.260926",
     "status": "completed"
    },
    "tags": []
   },
   "outputs": [],
   "source": [
    "device = torch.device('cuda' if torch.cuda.is_available() else 'cpu')"
   ]
  },
  {
   "cell_type": "code",
   "execution_count": 4,
   "id": "49ef43d7",
   "metadata": {
    "execution": {
     "iopub.execute_input": "2024-08-25T18:22:18.280826Z",
     "iopub.status.busy": "2024-08-25T18:22:18.280480Z",
     "iopub.status.idle": "2024-08-25T18:22:18.287119Z",
     "shell.execute_reply": "2024-08-25T18:22:18.286150Z"
    },
    "papermill": {
     "duration": 0.013346,
     "end_time": "2024-08-25T18:22:18.289221",
     "exception": false,
     "start_time": "2024-08-25T18:22:18.275875",
     "status": "completed"
    },
    "tags": []
   },
   "outputs": [],
   "source": [
    "def get_recent_checkpoint(dir_path, idx=0, ):\n",
    "    paths = glob.glob(dir_path+'/*')\n",
    "    \n",
    "    if len(paths)==0:\n",
    "        print('UUID not found')\n",
    "        return None, None\n",
    "    \n",
    "    a = []\n",
    "    \n",
    "    for path in paths:\n",
    "        data_file = path.split('/')[-1]\n",
    "        epoch = re.findall(r'\\d+', data_file)\n",
    "        a.append(int(epoch[0]))\n",
    "   \n",
    "    if len(a)>0:\n",
    "        recent_epoch = sorted(a, reverse=True)[idx]\n",
    "    else:\n",
    "        return None, None\n",
    "   \n",
    "    return recent_epoch, f'{dir_path}/data_{recent_epoch}.pkl'"
   ]
  },
  {
   "cell_type": "code",
   "execution_count": 5,
   "id": "fe2d7d76",
   "metadata": {
    "_cell_guid": "b1076dfc-b9ad-4769-8c92-a6c4dae69d19",
    "_uuid": "8f2839f25d086af736a60e9eeb907d3b93b6e0e5",
    "execution": {
     "iopub.execute_input": "2024-08-25T18:22:18.298312Z",
     "iopub.status.busy": "2024-08-25T18:22:18.297480Z",
     "iopub.status.idle": "2024-08-25T18:22:19.645453Z",
     "shell.execute_reply": "2024-08-25T18:22:19.644378Z"
    },
    "papermill": {
     "duration": 1.355234,
     "end_time": "2024-08-25T18:22:19.648094",
     "exception": false,
     "start_time": "2024-08-25T18:22:18.292860",
     "status": "completed"
    },
    "tags": []
   },
   "outputs": [
    {
     "name": "stdout",
     "output_type": "stream",
     "text": [
      "Checkpoint found\n",
      "199 /kaggle/input/patch-small-cp/1d8cf009-8c1b-4f4b-9ba4-42079b1bbbe2/data_199.pkl\n"
     ]
    },
    {
     "name": "stderr",
     "output_type": "stream",
     "text": [
      "/tmp/ipykernel_17/2541577373.py:10: FutureWarning: You are using `torch.load` with `weights_only=False` (the current default value), which uses the default pickle module implicitly. It is possible to construct malicious pickle data which will execute arbitrary code during unpickling (See https://github.com/pytorch/pytorch/blob/main/SECURITY.md#untrusted-models for more details). In a future release, the default value for `weights_only` will be flipped to `True`. This limits the functions that could be executed during unpickling. Arbitrary objects will no longer be allowed to be loaded via this mode unless they are explicitly allowlisted by the user via `torch.serialization.add_safe_globals`. We recommend you start setting `weights_only=True` for any use case where you don't have full control of the loaded file. Please open an issue on GitHub for any issues related to this experimental feature.\n",
      "  best_checkpoint_data = torch.load(checkpoint_path, map_location=device)\n"
     ]
    }
   ],
   "source": [
    "idx, checkpoint_path = get_recent_checkpoint(dir_path='/kaggle/input/patch-small-cp/1d8cf009-8c1b-4f4b-9ba4-42079b1bbbe2', idx=0)\n",
    "\n",
    "print(\"No checkpoint found\" if checkpoint_path == None else \"Checkpoint found\")\n",
    "print(idx, checkpoint_path)\n",
    "\n",
    "checkpoint_data = None\n",
    "\n",
    "if checkpoint_path!=None:\n",
    "\n",
    "    best_checkpoint_data = torch.load(checkpoint_path, map_location=device)\n",
    "\n",
    "    config = best_checkpoint_data['config']\n",
    "    \n",
    "    exclude_list = ['config', 'net_state_dict', 'optimizer_state_dict']\n",
    "    \n",
    "    checkpoint_data = {}\n",
    "    \n",
    "    for i in best_checkpoint_data.keys():\n",
    "        if i not in exclude_list:\n",
    "            checkpoint_data[i] = best_checkpoint_data[i]"
   ]
  },
  {
   "cell_type": "code",
   "execution_count": 6,
   "id": "6b30c8be",
   "metadata": {
    "execution": {
     "iopub.execute_input": "2024-08-25T18:22:19.657898Z",
     "iopub.status.busy": "2024-08-25T18:22:19.657013Z",
     "iopub.status.idle": "2024-08-25T18:22:19.661736Z",
     "shell.execute_reply": "2024-08-25T18:22:19.660756Z"
    },
    "papermill": {
     "duration": 0.011765,
     "end_time": "2024-08-25T18:22:19.663896",
     "exception": false,
     "start_time": "2024-08-25T18:22:19.652131",
     "status": "completed"
    },
    "tags": []
   },
   "outputs": [],
   "source": [
    "train_epoch_times_128 = checkpoint_data['train_epoch_times']\n",
    "full_epoch_times_128 = checkpoint_data['full_epoch_times']"
   ]
  },
  {
   "cell_type": "code",
   "execution_count": 7,
   "id": "69590add",
   "metadata": {
    "execution": {
     "iopub.execute_input": "2024-08-25T18:22:19.673053Z",
     "iopub.status.busy": "2024-08-25T18:22:19.672463Z",
     "iopub.status.idle": "2024-08-25T18:22:20.996060Z",
     "shell.execute_reply": "2024-08-25T18:22:20.994754Z"
    },
    "papermill": {
     "duration": 1.330876,
     "end_time": "2024-08-25T18:22:20.998573",
     "exception": false,
     "start_time": "2024-08-25T18:22:19.667697",
     "status": "completed"
    },
    "tags": []
   },
   "outputs": [
    {
     "name": "stdout",
     "output_type": "stream",
     "text": [
      "Checkpoint found\n",
      "199 /kaggle/input/patch-smodel-aug-cp/6103f738-9d8a-481a-86e4-a02f5bd55862/data_199.pkl\n"
     ]
    },
    {
     "name": "stderr",
     "output_type": "stream",
     "text": [
      "/tmp/ipykernel_17/3854831466.py:10: FutureWarning: You are using `torch.load` with `weights_only=False` (the current default value), which uses the default pickle module implicitly. It is possible to construct malicious pickle data which will execute arbitrary code during unpickling (See https://github.com/pytorch/pytorch/blob/main/SECURITY.md#untrusted-models for more details). In a future release, the default value for `weights_only` will be flipped to `True`. This limits the functions that could be executed during unpickling. Arbitrary objects will no longer be allowed to be loaded via this mode unless they are explicitly allowlisted by the user via `torch.serialization.add_safe_globals`. We recommend you start setting `weights_only=True` for any use case where you don't have full control of the loaded file. Please open an issue on GitHub for any issues related to this experimental feature.\n",
      "  best_checkpoint_data = torch.load(checkpoint_path, map_location=device)\n"
     ]
    }
   ],
   "source": [
    "idx, checkpoint_path = get_recent_checkpoint(dir_path='/kaggle/input/patch-smodel-aug-cp/6103f738-9d8a-481a-86e4-a02f5bd55862', idx=0)\n",
    "\n",
    "print(\"No checkpoint found\" if checkpoint_path == None else \"Checkpoint found\")\n",
    "print(idx, checkpoint_path)\n",
    "\n",
    "checkpoint_data = None\n",
    "\n",
    "if checkpoint_path!=None:\n",
    "\n",
    "    best_checkpoint_data = torch.load(checkpoint_path, map_location=device)\n",
    "\n",
    "    config = best_checkpoint_data['config']\n",
    "    \n",
    "    exclude_list = ['config', 'net_state_dict', 'optimizer_state_dict']\n",
    "    \n",
    "    checkpoint_data = {}\n",
    "    \n",
    "    for i in best_checkpoint_data.keys():\n",
    "        if i not in exclude_list:\n",
    "            checkpoint_data[i] = best_checkpoint_data[i]"
   ]
  },
  {
   "cell_type": "code",
   "execution_count": 8,
   "id": "a4315906",
   "metadata": {
    "execution": {
     "iopub.execute_input": "2024-08-25T18:22:21.008673Z",
     "iopub.status.busy": "2024-08-25T18:22:21.008298Z",
     "iopub.status.idle": "2024-08-25T18:22:21.012817Z",
     "shell.execute_reply": "2024-08-25T18:22:21.011968Z"
    },
    "papermill": {
     "duration": 0.011975,
     "end_time": "2024-08-25T18:22:21.014910",
     "exception": false,
     "start_time": "2024-08-25T18:22:21.002935",
     "status": "completed"
    },
    "tags": []
   },
   "outputs": [],
   "source": [
    "train_epoch_times_96 = checkpoint_data['train_epoch_times']\n",
    "full_epoch_times_96 = checkpoint_data['full_epoch_times']"
   ]
  },
  {
   "cell_type": "code",
   "execution_count": 9,
   "id": "8373d7bf",
   "metadata": {
    "execution": {
     "iopub.execute_input": "2024-08-25T18:22:21.024062Z",
     "iopub.status.busy": "2024-08-25T18:22:21.023733Z",
     "iopub.status.idle": "2024-08-25T18:22:21.028440Z",
     "shell.execute_reply": "2024-08-25T18:22:21.027483Z"
    },
    "papermill": {
     "duration": 0.011549,
     "end_time": "2024-08-25T18:22:21.030373",
     "exception": false,
     "start_time": "2024-08-25T18:22:21.018824",
     "status": "completed"
    },
    "tags": []
   },
   "outputs": [],
   "source": [
    "data = np.array([ abs(sum(full_epoch_times_128)), abs(sum(full_epoch_times_96))])/3600"
   ]
  },
  {
   "cell_type": "code",
   "execution_count": 10,
   "id": "87c2e3b7",
   "metadata": {
    "execution": {
     "iopub.execute_input": "2024-08-25T18:22:21.039585Z",
     "iopub.status.busy": "2024-08-25T18:22:21.039242Z",
     "iopub.status.idle": "2024-08-25T18:22:21.280059Z",
     "shell.execute_reply": "2024-08-25T18:22:21.278950Z"
    },
    "papermill": {
     "duration": 0.248104,
     "end_time": "2024-08-25T18:22:21.282412",
     "exception": false,
     "start_time": "2024-08-25T18:22:21.034308",
     "status": "completed"
    },
    "tags": []
   },
   "outputs": [
    {
     "data": {
      "image/png": "[encoded data removed]",
      "text/plain": [
       "<Figure size 640x480 with 1 Axes>"
      ]
     },
     "metadata": {},
     "output_type": "display_data"
    }
   ],
   "source": [
    "plt.bar(x=x,height=data)\n",
    "plt.ylabel('Time in hrs')\n",
    "plt.xlabel('Model variants')\n",
    "for i in range(len(x)):\n",
    "        plt.text(i-0.07,data[i]+0.05,f'{data[i]:.2f} hrs')"
   ]
  },
  {
   "cell_type": "code",
   "execution_count": 11,
   "id": "17622b5d",
   "metadata": {
    "execution": {
     "iopub.execute_input": "2024-08-25T18:22:21.292572Z",
     "iopub.status.busy": "2024-08-25T18:22:21.292158Z",
     "iopub.status.idle": "2024-08-25T18:22:21.297220Z",
     "shell.execute_reply": "2024-08-25T18:22:21.296209Z"
    },
    "papermill": {
     "duration": 0.012513,
     "end_time": "2024-08-25T18:22:21.299269",
     "exception": false,
     "start_time": "2024-08-25T18:22:21.286756",
     "status": "completed"
    },
    "tags": []
   },
   "outputs": [],
   "source": [
    "data = np.array([ abs(sum(train_epoch_times_128)), abs(sum(train_epoch_times_96))])/3600"
   ]
  },
  {
   "cell_type": "code",
   "execution_count": 12,
   "id": "e282004d",
   "metadata": {
    "execution": {
     "iopub.execute_input": "2024-08-25T18:22:21.309317Z",
     "iopub.status.busy": "2024-08-25T18:22:21.308912Z",
     "iopub.status.idle": "2024-08-25T18:22:21.527774Z",
     "shell.execute_reply": "2024-08-25T18:22:21.526452Z"
    },
    "papermill": {
     "duration": 0.228306,
     "end_time": "2024-08-25T18:22:21.531867",
     "exception": false,
     "start_time": "2024-08-25T18:22:21.303561",
     "status": "completed"
    },
    "tags": []
   },
   "outputs": [
    {
     "data": {
      "image/png": "[encoded data removed]",
      "text/plain": [
       "<Figure size 640x480 with 1 Axes>"
      ]
     },
     "metadata": {},
     "output_type": "display_data"
    }
   ],
   "source": [
    "plt.bar(x=x,height=data)\n",
    "plt.ylabel('Time in hrs')\n",
    "plt.xlabel('Model variants')\n",
    "for i in range(len(x)):\n",
    "        plt.text(i-0.07,data[i]+0.05,f'{data[i]:.2f} hrs')"
   ]
  },
  {
   "cell_type": "code",
   "execution_count": null,
   "id": "8ed828cf",
   "metadata": {
    "papermill": {
     "duration": 0.006184,
     "end_time": "2024-08-25T18:22:21.544711",
     "exception": false,
     "start_time": "2024-08-25T18:22:21.538527",
     "status": "completed"
    },
    "tags": []
   },
   "outputs": [],
   "source": []
  }
 ],
 "metadata": {
  "kaggle": {
   "accelerator": "none",
   "dataSources": [
    {
     "datasetId": 5494352,
     "sourceId": 9103712,
     "sourceType": "datasetVersion"
    },
    {
     "datasetId": 5564470,
     "sourceId": 9203340,
     "sourceType": "datasetVersion"
    }
   ],
   "dockerImageVersionId": 30761,
   "isGpuEnabled": false,
   "isInternetEnabled": true,
   "language": "python",
   "sourceType": "notebook"
  },
  "kernelspec": {
   "display_name": "Python 3",
   "language": "python",
   "name": "python3"
  },
  "language_info": {
   "codemirror_mode": {
    "name": "ipython",
    "version": 3
   },
   "file_extension": ".py",
   "mimetype": "text/x-python",
   "name": "python",
   "nbconvert_exporter": "python",
   "pygments_lexer": "ipython3",
   "version": "3.10.14"
  },
  "papermill": {
   "default_parameters": {},
   "duration": 9.70401,
   "end_time": "2024-08-25T18:22:22.372580",
   "environment_variables": {},
   "exception": null,
   "input_path": "__notebook__.ipynb",
   "output_path": "__notebook__.ipynb",
   "parameters": {},
   "start_time": "2024-08-25T18:22:12.668570",
   "version": "2.6.0"
  }
 },
 "nbformat": 4,
 "nbformat_minor": 5
}
