{
 "cells": [
  {
   "cell_type": "code",
   "execution_count": 1,
   "id": "ac8eaf71",
   "metadata": {
    "execution": {
     "iopub.execute_input": "2024-08-25T18:22:09.156432Z",
     "iopub.status.busy": "2024-08-25T18:22:09.155983Z",
     "iopub.status.idle": "2024-08-25T18:22:12.299756Z",
     "shell.execute_reply": "2024-08-25T18:22:12.298360Z"
    },
    "papermill": {
     "duration": 3.152825,
     "end_time": "2024-08-25T18:22:12.302731",
     "exception": false,
     "start_time": "2024-08-25T18:22:09.149906",
     "status": "completed"
    },
    "tags": []
   },
   "outputs": [],
   "source": [
    "import torch\n",
    "import glob\n",
    "import re\n",
    "import matplotlib.pyplot as plt\n",
    "import numpy as np"
   ]
  },
  {
   "cell_type": "code",
   "execution_count": 2,
   "id": "04465352",
   "metadata": {
    "execution": {
     "iopub.execute_input": "2024-08-25T18:22:12.313217Z",
     "iopub.status.busy": "2024-08-25T18:22:12.312671Z",
     "iopub.status.idle": "2024-08-25T18:22:12.318536Z",
     "shell.execute_reply": "2024-08-25T18:22:12.317271Z"
    },
    "papermill": {
     "duration": 0.015415,
     "end_time": "2024-08-25T18:22:12.322642",
     "exception": false,
     "start_time": "2024-08-25T18:22:12.307227",
     "status": "completed"
    },
    "tags": []
   },
   "outputs": [],
   "source": [
    "x = ['5 Layer UNet (base)','5 Layer UNet with DiceFocal Loss']"
   ]
  },
  {
   "cell_type": "code",
   "execution_count": 3,
   "id": "cb2060f8",
   "metadata": {
    "execution": {
     "iopub.execute_input": "2024-08-25T18:22:12.332335Z",
     "iopub.status.busy": "2024-08-25T18:22:12.331906Z",
     "iopub.status.idle": "2024-08-25T18:22:12.337334Z",
     "shell.execute_reply": "2024-08-25T18:22:12.336203Z"
    },
    "papermill": {
     "duration": 0.013051,
     "end_time": "2024-08-25T18:22:12.339854",
     "exception": false,
     "start_time": "2024-08-25T18:22:12.326803",
     "status": "completed"
    },
    "tags": []
   },
   "outputs": [],
   "source": [
    "device = torch.device('cuda' if torch.cuda.is_available() else 'cpu')"
   ]
  },
  {
   "cell_type": "code",
   "execution_count": 4,
   "id": "4ccac843",
   "metadata": {
    "execution": {
     "iopub.execute_input": "2024-08-25T18:22:12.348979Z",
     "iopub.status.busy": "2024-08-25T18:22:12.348582Z",
     "iopub.status.idle": "2024-08-25T18:22:12.355702Z",
     "shell.execute_reply": "2024-08-25T18:22:12.354533Z"
    },
    "papermill": {
     "duration": 0.014251,
     "end_time": "2024-08-25T18:22:12.357872",
     "exception": false,
     "start_time": "2024-08-25T18:22:12.343621",
     "status": "completed"
    },
    "tags": []
   },
   "outputs": [],
   "source": [
    "def get_recent_checkpoint(dir_path, idx=0, ):\n",
    "    paths = glob.glob(dir_path+'/*')\n",
    "    \n",
    "    if len(paths)==0:\n",
    "        print('UUID not found')\n",
    "        return None, None\n",
    "    \n",
    "    a = []\n",
    "    \n",
    "    for path in paths:\n",
    "        data_file = path.split('/')[-1]\n",
    "        epoch = re.findall(r'\\d+', data_file)\n",
    "        a.append(int(epoch[0]))\n",
    "   \n",
    "    if len(a)>0:\n",
    "        recent_epoch = sorted(a, reverse=True)[idx]\n",
    "    else:\n",
    "        return None, None\n",
    "   \n",
    "    return recent_epoch, f'{dir_path}/data_{recent_epoch}.pkl'"
   ]
  },
  {
   "cell_type": "code",
   "execution_count": 5,
   "id": "d3358086",
   "metadata": {
    "_cell_guid": "b1076dfc-b9ad-4769-8c92-a6c4dae69d19",
    "_uuid": "8f2839f25d086af736a60e9eeb907d3b93b6e0e5",
    "execution": {
     "iopub.execute_input": "2024-08-25T18:22:12.367236Z",
     "iopub.status.busy": "2024-08-25T18:22:12.366817Z",
     "iopub.status.idle": "2024-08-25T18:22:13.863332Z",
     "shell.execute_reply": "2024-08-25T18:22:13.862177Z"
    },
    "papermill": {
     "duration": 1.504184,
     "end_time": "2024-08-25T18:22:13.865894",
     "exception": false,
     "start_time": "2024-08-25T18:22:12.361710",
     "status": "completed"
    },
    "tags": []
   },
   "outputs": [
    {
     "name": "stdout",
     "output_type": "stream",
     "text": [
      "Checkpoint found\n",
      "199 /kaggle/input/patch-small-cp/1d8cf009-8c1b-4f4b-9ba4-42079b1bbbe2/data_199.pkl\n"
     ]
    },
    {
     "name": "stderr",
     "output_type": "stream",
     "text": [
      "/tmp/ipykernel_17/2541577373.py:10: FutureWarning: You are using `torch.load` with `weights_only=False` (the current default value), which uses the default pickle module implicitly. It is possible to construct malicious pickle data which will execute arbitrary code during unpickling (See https://github.com/pytorch/pytorch/blob/main/SECURITY.md#untrusted-models for more details). In a future release, the default value for `weights_only` will be flipped to `True`. This limits the functions that could be executed during unpickling. Arbitrary objects will no longer be allowed to be loaded via this mode unless they are explicitly allowlisted by the user via `torch.serialization.add_safe_globals`. We recommend you start setting `weights_only=True` for any use case where you don't have full control of the loaded file. Please open an issue on GitHub for any issues related to this experimental feature.\n",
      "  best_checkpoint_data = torch.load(checkpoint_path, map_location=device)\n"
     ]
    }
   ],
   "source": [
    "idx, checkpoint_path = get_recent_checkpoint(dir_path='/kaggle/input/patch-small-cp/1d8cf009-8c1b-4f4b-9ba4-42079b1bbbe2', idx=0)\n",
    "\n",
    "print(\"No checkpoint found\" if checkpoint_path == None else \"Checkpoint found\")\n",
    "print(idx, checkpoint_path)\n",
    "\n",
    "checkpoint_data = None\n",
    "\n",
    "if checkpoint_path!=None:\n",
    "\n",
    "    best_checkpoint_data = torch.load(checkpoint_path, map_location=device)\n",
    "\n",
    "    config = best_checkpoint_data['config']\n",
    "    \n",
    "    exclude_list = ['config', 'net_state_dict', 'optimizer_state_dict']\n",
    "    \n",
    "    checkpoint_data = {}\n",
    "    \n",
    "    for i in best_checkpoint_data.keys():\n",
    "        if i not in exclude_list:\n",
    "            checkpoint_data[i] = best_checkpoint_data[i]"
   ]
  },
  {
   "cell_type": "code",
   "execution_count": 6,
   "id": "b8b39739",
   "metadata": {
    "execution": {
     "iopub.execute_input": "2024-08-25T18:22:13.875998Z",
     "iopub.status.busy": "2024-08-25T18:22:13.875586Z",
     "iopub.status.idle": "2024-08-25T18:22:13.881011Z",
     "shell.execute_reply": "2024-08-25T18:22:13.879524Z"
    },
    "papermill": {
     "duration": 0.013322,
     "end_time": "2024-08-25T18:22:13.883588",
     "exception": false,
     "start_time": "2024-08-25T18:22:13.870266",
     "status": "completed"
    },
    "tags": []
   },
   "outputs": [],
   "source": [
    "train_epoch_times_128 = checkpoint_data['train_epoch_times']\n",
    "full_epoch_times_128 = checkpoint_data['full_epoch_times']"
   ]
  },
  {
   "cell_type": "code",
   "execution_count": 7,
   "id": "c10fe347",
   "metadata": {
    "execution": {
     "iopub.execute_input": "2024-08-25T18:22:13.893895Z",
     "iopub.status.busy": "2024-08-25T18:22:13.893467Z",
     "iopub.status.idle": "2024-08-25T18:22:14.847854Z",
     "shell.execute_reply": "2024-08-25T18:22:14.846286Z"
    },
    "papermill": {
     "duration": 0.962412,
     "end_time": "2024-08-25T18:22:14.850441",
     "exception": false,
     "start_time": "2024-08-25T18:22:13.888029",
     "status": "completed"
    },
    "tags": []
   },
   "outputs": [
    {
     "name": "stdout",
     "output_type": "stream",
     "text": [
      "Checkpoint found\n",
      "199 /kaggle/input/patch-dicefocalloss-cp/81dc3d21-fca0-495b-a0b5-5480a060fd6b/data_199.pkl\n"
     ]
    },
    {
     "name": "stderr",
     "output_type": "stream",
     "text": [
      "/tmp/ipykernel_17/3989571061.py:10: FutureWarning: You are using `torch.load` with `weights_only=False` (the current default value), which uses the default pickle module implicitly. It is possible to construct malicious pickle data which will execute arbitrary code during unpickling (See https://github.com/pytorch/pytorch/blob/main/SECURITY.md#untrusted-models for more details). In a future release, the default value for `weights_only` will be flipped to `True`. This limits the functions that could be executed during unpickling. Arbitrary objects will no longer be allowed to be loaded via this mode unless they are explicitly allowlisted by the user via `torch.serialization.add_safe_globals`. We recommend you start setting `weights_only=True` for any use case where you don't have full control of the loaded file. Please open an issue on GitHub for any issues related to this experimental feature.\n",
      "  best_checkpoint_data = torch.load(checkpoint_path, map_location=device)\n"
     ]
    }
   ],
   "source": [
    "idx, checkpoint_path = get_recent_checkpoint(dir_path='/kaggle/input/patch-dicefocalloss-cp/81dc3d21-fca0-495b-a0b5-5480a060fd6b', idx=0)\n",
    "\n",
    "print(\"No checkpoint found\" if checkpoint_path == None else \"Checkpoint found\")\n",
    "print(idx, checkpoint_path)\n",
    "\n",
    "checkpoint_data = None\n",
    "\n",
    "if checkpoint_path!=None:\n",
    "\n",
    "    best_checkpoint_data = torch.load(checkpoint_path, map_location=device)\n",
    "\n",
    "    config = best_checkpoint_data['config']\n",
    "    \n",
    "    exclude_list = ['config', 'net_state_dict', 'optimizer_state_dict']\n",
    "    \n",
    "    checkpoint_data = {}\n",
    "    \n",
    "    for i in best_checkpoint_data.keys():\n",
    "        if i not in exclude_list:\n",
    "            checkpoint_data[i] = best_checkpoint_data[i]"
   ]
  },
  {
   "cell_type": "code",
   "execution_count": 8,
   "id": "a3f072c9",
   "metadata": {
    "execution": {
     "iopub.execute_input": "2024-08-25T18:22:14.860644Z",
     "iopub.status.busy": "2024-08-25T18:22:14.860234Z",
     "iopub.status.idle": "2024-08-25T18:22:14.865493Z",
     "shell.execute_reply": "2024-08-25T18:22:14.864105Z"
    },
    "papermill": {
     "duration": 0.012902,
     "end_time": "2024-08-25T18:22:14.867739",
     "exception": false,
     "start_time": "2024-08-25T18:22:14.854837",
     "status": "completed"
    },
    "tags": []
   },
   "outputs": [],
   "source": [
    "train_epoch_times_96 = checkpoint_data['train_epoch_times']\n",
    "full_epoch_times_96 = checkpoint_data['full_epoch_times']"
   ]
  },
  {
   "cell_type": "code",
   "execution_count": 9,
   "id": "b7f288c8",
   "metadata": {
    "execution": {
     "iopub.execute_input": "2024-08-25T18:22:14.878104Z",
     "iopub.status.busy": "2024-08-25T18:22:14.877692Z",
     "iopub.status.idle": "2024-08-25T18:22:14.883054Z",
     "shell.execute_reply": "2024-08-25T18:22:14.881972Z"
    },
    "papermill": {
     "duration": 0.013275,
     "end_time": "2024-08-25T18:22:14.885283",
     "exception": false,
     "start_time": "2024-08-25T18:22:14.872008",
     "status": "completed"
    },
    "tags": []
   },
   "outputs": [],
   "source": [
    "data = np.array([ abs(sum(full_epoch_times_128)), abs(sum(full_epoch_times_96))])/3600"
   ]
  },
  {
   "cell_type": "code",
   "execution_count": 10,
   "id": "6f67e326",
   "metadata": {
    "execution": {
     "iopub.execute_input": "2024-08-25T18:22:14.895684Z",
     "iopub.status.busy": "2024-08-25T18:22:14.895261Z",
     "iopub.status.idle": "2024-08-25T18:22:15.117965Z",
     "shell.execute_reply": "2024-08-25T18:22:15.116879Z"
    },
    "papermill": {
     "duration": 0.230888,
     "end_time": "2024-08-25T18:22:15.120426",
     "exception": false,
     "start_time": "2024-08-25T18:22:14.889538",
     "status": "completed"
    },
    "tags": []
   },
   "outputs": [
    {
     "data": {
      "image/png": "[encoded data removed]",
      "text/plain": [
       "<Figure size 640x480 with 1 Axes>"
      ]
     },
     "metadata": {},
     "output_type": "display_data"
    }
   ],
   "source": [
    "plt.bar(x=x,height=data)\n",
    "plt.ylabel('Time in hrs')\n",
    "plt.xlabel('Model variants')\n",
    "for i in range(len(x)):\n",
    "        plt.text(i-0.07,data[i]+0.05,f'{data[i]:.2f} hrs')"
   ]
  },
  {
   "cell_type": "code",
   "execution_count": 11,
   "id": "40ba9cf1",
   "metadata": {
    "execution": {
     "iopub.execute_input": "2024-08-25T18:22:15.131845Z",
     "iopub.status.busy": "2024-08-25T18:22:15.131407Z",
     "iopub.status.idle": "2024-08-25T18:22:15.137422Z",
     "shell.execute_reply": "2024-08-25T18:22:15.136296Z"
    },
    "papermill": {
     "duration": 0.014678,
     "end_time": "2024-08-25T18:22:15.139965",
     "exception": false,
     "start_time": "2024-08-25T18:22:15.125287",
     "status": "completed"
    },
    "tags": []
   },
   "outputs": [],
   "source": [
    "data = np.array([ abs(sum(train_epoch_times_128)), abs(sum(train_epoch_times_96))])/3600"
   ]
  },
  {
   "cell_type": "code",
   "execution_count": 12,
   "id": "4c09d22c",
   "metadata": {
    "execution": {
     "iopub.execute_input": "2024-08-25T18:22:15.150687Z",
     "iopub.status.busy": "2024-08-25T18:22:15.150256Z",
     "iopub.status.idle": "2024-08-25T18:22:15.372389Z",
     "shell.execute_reply": "2024-08-25T18:22:15.371270Z"
    },
    "papermill": {
     "duration": 0.230196,
     "end_time": "2024-08-25T18:22:15.374717",
     "exception": false,
     "start_time": "2024-08-25T18:22:15.144521",
     "status": "completed"
    },
    "tags": []
   },
   "outputs": [
    {
     "data": {
      "image/png": "[encoded data removed]",
      "text/plain": [
       "<Figure size 640x480 with 1 Axes>"
      ]
     },
     "metadata": {},
     "output_type": "display_data"
    }
   ],
   "source": [
    "plt.bar(x=x,height=data)\n",
    "plt.ylabel('Time in hrs')\n",
    "plt.xlabel('Model variants')\n",
    "for i in range(len(x)):\n",
    "        plt.text(i-0.07,data[i]+0.05,f'{data[i]:.2f} hrs')"
   ]
  },
  {
   "cell_type": "code",
   "execution_count": null,
   "id": "83492b11",
   "metadata": {
    "papermill": {
     "duration": 0.004615,
     "end_time": "2024-08-25T18:22:15.384318",
     "exception": false,
     "start_time": "2024-08-25T18:22:15.379703",
     "status": "completed"
    },
    "tags": []
   },
   "outputs": [],
   "source": []
  }
 ],
 "metadata": {
  "kaggle": {
   "accelerator": "none",
   "dataSources": [
    {
     "datasetId": 5494352,
     "sourceId": 9103712,
     "sourceType": "datasetVersion"
    },
    {
     "datasetId": 5556878,
     "sourceId": 9192108,
     "sourceType": "datasetVersion"
    }
   ],
   "dockerImageVersionId": 30761,
   "isGpuEnabled": false,
   "isInternetEnabled": true,
   "language": "python",
   "sourceType": "notebook"
  },
  "kernelspec": {
   "display_name": "Python 3",
   "language": "python",
   "name": "python3"
  },
  "language_info": {
   "codemirror_mode": {
    "name": "ipython",
    "version": 3
   },
   "file_extension": ".py",
   "mimetype": "text/x-python",
   "name": "python",
   "nbconvert_exporter": "python",
   "pygments_lexer": "ipython3",
   "version": "3.10.14"
  },
  "papermill": {
   "default_parameters": {},
   "duration": 10.006551,
   "end_time": "2024-08-25T18:22:16.313377",
   "environment_variables": {},
   "exception": null,
   "input_path": "__notebook__.ipynb",
   "output_path": "__notebook__.ipynb",
   "parameters": {},
   "start_time": "2024-08-25T18:22:06.306826",
   "version": "2.6.0"
  }
 },
 "nbformat": 4,
 "nbformat_minor": 5
}
