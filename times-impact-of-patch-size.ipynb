{
 "cells": [
  {
   "cell_type": "code",
   "execution_count": 1,
   "id": "7de44c9e",
   "metadata": {
    "execution": {
     "iopub.execute_input": "2024-08-25T18:21:44.089380Z",
     "iopub.status.busy": "2024-08-25T18:21:44.088911Z",
     "iopub.status.idle": "2024-08-25T18:21:47.609764Z",
     "shell.execute_reply": "2024-08-25T18:21:47.608304Z"
    },
    "papermill": {
     "duration": 3.532709,
     "end_time": "2024-08-25T18:21:47.613470",
     "exception": false,
     "start_time": "2024-08-25T18:21:44.080761",
     "status": "completed"
    },
    "tags": []
   },
   "outputs": [],
   "source": [
    "import torch\n",
    "import glob\n",
    "import re\n",
    "import matplotlib.pyplot as plt\n",
    "import numpy as np"
   ]
  },
  {
   "cell_type": "code",
   "execution_count": 2,
   "id": "dd61f985",
   "metadata": {
    "execution": {
     "iopub.execute_input": "2024-08-25T18:21:47.626783Z",
     "iopub.status.busy": "2024-08-25T18:21:47.626174Z",
     "iopub.status.idle": "2024-08-25T18:21:47.632348Z",
     "shell.execute_reply": "2024-08-25T18:21:47.630903Z"
    },
    "papermill": {
     "duration": 0.015776,
     "end_time": "2024-08-25T18:21:47.635069",
     "exception": false,
     "start_time": "2024-08-25T18:21:47.619293",
     "status": "completed"
    },
    "tags": []
   },
   "outputs": [],
   "source": [
    "x = ['5 Layer UNet (base)','5 Layer UNet with small patch size']"
   ]
  },
  {
   "cell_type": "code",
   "execution_count": 3,
   "id": "d1784b71",
   "metadata": {
    "execution": {
     "iopub.execute_input": "2024-08-25T18:21:47.648062Z",
     "iopub.status.busy": "2024-08-25T18:21:47.647514Z",
     "iopub.status.idle": "2024-08-25T18:21:47.653955Z",
     "shell.execute_reply": "2024-08-25T18:21:47.652526Z"
    },
    "papermill": {
     "duration": 0.01591,
     "end_time": "2024-08-25T18:21:47.656496",
     "exception": false,
     "start_time": "2024-08-25T18:21:47.640586",
     "status": "completed"
    },
    "tags": []
   },
   "outputs": [],
   "source": [
    "device = torch.device('cuda' if torch.cuda.is_available() else 'cpu')"
   ]
  },
  {
   "cell_type": "code",
   "execution_count": 4,
   "id": "cfa2fb12",
   "metadata": {
    "execution": {
     "iopub.execute_input": "2024-08-25T18:21:47.669144Z",
     "iopub.status.busy": "2024-08-25T18:21:47.668609Z",
     "iopub.status.idle": "2024-08-25T18:21:47.678438Z",
     "shell.execute_reply": "2024-08-25T18:21:47.676933Z"
    },
    "papermill": {
     "duration": 0.02014,
     "end_time": "2024-08-25T18:21:47.681819",
     "exception": false,
     "start_time": "2024-08-25T18:21:47.661679",
     "status": "completed"
    },
    "tags": []
   },
   "outputs": [],
   "source": [
    "def get_recent_checkpoint(dir_path, idx=0, ):\n",
    "    paths = glob.glob(dir_path+'/*')\n",
    "    \n",
    "    if len(paths)==0:\n",
    "        print('UUID not found')\n",
    "        return None, None\n",
    "    \n",
    "    a = []\n",
    "    \n",
    "    for path in paths:\n",
    "        data_file = path.split('/')[-1]\n",
    "        epoch = re.findall(r'\\d+', data_file)\n",
    "        a.append(int(epoch[0]))\n",
    "   \n",
    "    if len(a)>0:\n",
    "        recent_epoch = sorted(a, reverse=True)[idx]\n",
    "    else:\n",
    "        return None, None\n",
    "   \n",
    "    return recent_epoch, f'{dir_path}/data_{recent_epoch}.pkl'"
   ]
  },
  {
   "cell_type": "code",
   "execution_count": 5,
   "id": "b34e22ec",
   "metadata": {
    "_cell_guid": "b1076dfc-b9ad-4769-8c92-a6c4dae69d19",
    "_uuid": "8f2839f25d086af736a60e9eeb907d3b93b6e0e5",
    "execution": {
     "iopub.execute_input": "2024-08-25T18:21:47.694166Z",
     "iopub.status.busy": "2024-08-25T18:21:47.693603Z",
     "iopub.status.idle": "2024-08-25T18:21:49.437498Z",
     "shell.execute_reply": "2024-08-25T18:21:49.435328Z"
    },
    "papermill": {
     "duration": 1.757923,
     "end_time": "2024-08-25T18:21:49.444872",
     "exception": false,
     "start_time": "2024-08-25T18:21:47.686949",
     "status": "completed"
    },
    "tags": []
   },
   "outputs": [
    {
     "name": "stdout",
     "output_type": "stream",
     "text": [
      "Checkpoint found\n",
      "199 /kaggle/input/patch-small-cp/1d8cf009-8c1b-4f4b-9ba4-42079b1bbbe2/data_199.pkl\n"
     ]
    },
    {
     "name": "stderr",
     "output_type": "stream",
     "text": [
      "/tmp/ipykernel_17/2541577373.py:10: FutureWarning: You are using `torch.load` with `weights_only=False` (the current default value), which uses the default pickle module implicitly. It is possible to construct malicious pickle data which will execute arbitrary code during unpickling (See https://github.com/pytorch/pytorch/blob/main/SECURITY.md#untrusted-models for more details). In a future release, the default value for `weights_only` will be flipped to `True`. This limits the functions that could be executed during unpickling. Arbitrary objects will no longer be allowed to be loaded via this mode unless they are explicitly allowlisted by the user via `torch.serialization.add_safe_globals`. We recommend you start setting `weights_only=True` for any use case where you don't have full control of the loaded file. Please open an issue on GitHub for any issues related to this experimental feature.\n",
      "  best_checkpoint_data = torch.load(checkpoint_path, map_location=device)\n"
     ]
    }
   ],
   "source": [
    "idx, checkpoint_path = get_recent_checkpoint(dir_path='/kaggle/input/patch-small-cp/1d8cf009-8c1b-4f4b-9ba4-42079b1bbbe2', idx=0)\n",
    "\n",
    "print(\"No checkpoint found\" if checkpoint_path == None else \"Checkpoint found\")\n",
    "print(idx, checkpoint_path)\n",
    "\n",
    "checkpoint_data = None\n",
    "\n",
    "if checkpoint_path!=None:\n",
    "\n",
    "    best_checkpoint_data = torch.load(checkpoint_path, map_location=device)\n",
    "\n",
    "    config = best_checkpoint_data['config']\n",
    "    \n",
    "    exclude_list = ['config', 'net_state_dict', 'optimizer_state_dict']\n",
    "    \n",
    "    checkpoint_data = {}\n",
    "    \n",
    "    for i in best_checkpoint_data.keys():\n",
    "        if i not in exclude_list:\n",
    "            checkpoint_data[i] = best_checkpoint_data[i]"
   ]
  },
  {
   "cell_type": "code",
   "execution_count": 6,
   "id": "6d7d7e13",
   "metadata": {
    "execution": {
     "iopub.execute_input": "2024-08-25T18:21:49.466878Z",
     "iopub.status.busy": "2024-08-25T18:21:49.465767Z",
     "iopub.status.idle": "2024-08-25T18:21:49.473864Z",
     "shell.execute_reply": "2024-08-25T18:21:49.472310Z"
    },
    "papermill": {
     "duration": 0.022304,
     "end_time": "2024-08-25T18:21:49.476913",
     "exception": false,
     "start_time": "2024-08-25T18:21:49.454609",
     "status": "completed"
    },
    "tags": []
   },
   "outputs": [],
   "source": [
    "train_epoch_times_128 = checkpoint_data['train_epoch_times']\n",
    "full_epoch_times_128 = checkpoint_data['full_epoch_times']"
   ]
  },
  {
   "cell_type": "code",
   "execution_count": 7,
   "id": "01d9de63",
   "metadata": {
    "execution": {
     "iopub.execute_input": "2024-08-25T18:21:49.493330Z",
     "iopub.status.busy": "2024-08-25T18:21:49.492565Z",
     "iopub.status.idle": "2024-08-25T18:21:50.613376Z",
     "shell.execute_reply": "2024-08-25T18:21:50.611873Z"
    },
    "papermill": {
     "duration": 1.133736,
     "end_time": "2024-08-25T18:21:50.617038",
     "exception": false,
     "start_time": "2024-08-25T18:21:49.483302",
     "status": "completed"
    },
    "tags": []
   },
   "outputs": [
    {
     "name": "stdout",
     "output_type": "stream",
     "text": [
      "Checkpoint found\n",
      "199 /kaggle/input/spatch-small-cp/a5c3ef55-0694-4ae5-aa69-2ccddbe6dbc0/data_199.pkl\n"
     ]
    },
    {
     "name": "stderr",
     "output_type": "stream",
     "text": [
      "/tmp/ipykernel_17/1522255128.py:10: FutureWarning: You are using `torch.load` with `weights_only=False` (the current default value), which uses the default pickle module implicitly. It is possible to construct malicious pickle data which will execute arbitrary code during unpickling (See https://github.com/pytorch/pytorch/blob/main/SECURITY.md#untrusted-models for more details). In a future release, the default value for `weights_only` will be flipped to `True`. This limits the functions that could be executed during unpickling. Arbitrary objects will no longer be allowed to be loaded via this mode unless they are explicitly allowlisted by the user via `torch.serialization.add_safe_globals`. We recommend you start setting `weights_only=True` for any use case where you don't have full control of the loaded file. Please open an issue on GitHub for any issues related to this experimental feature.\n",
      "  best_checkpoint_data = torch.load(checkpoint_path, map_location=device)\n"
     ]
    }
   ],
   "source": [
    "idx, checkpoint_path = get_recent_checkpoint(dir_path='/kaggle/input/spatch-small-cp/a5c3ef55-0694-4ae5-aa69-2ccddbe6dbc0', idx=0)\n",
    "\n",
    "print(\"No checkpoint found\" if checkpoint_path == None else \"Checkpoint found\")\n",
    "print(idx, checkpoint_path)\n",
    "\n",
    "checkpoint_data = None\n",
    "\n",
    "if checkpoint_path!=None:\n",
    "\n",
    "    best_checkpoint_data = torch.load(checkpoint_path, map_location=device)\n",
    "\n",
    "    config = best_checkpoint_data['config']\n",
    "    \n",
    "    exclude_list = ['config', 'net_state_dict', 'optimizer_state_dict']\n",
    "    \n",
    "    checkpoint_data = {}\n",
    "    \n",
    "    for i in best_checkpoint_data.keys():\n",
    "        if i not in exclude_list:\n",
    "            checkpoint_data[i] = best_checkpoint_data[i]"
   ]
  },
  {
   "cell_type": "code",
   "execution_count": 8,
   "id": "6f46d524",
   "metadata": {
    "execution": {
     "iopub.execute_input": "2024-08-25T18:21:50.630574Z",
     "iopub.status.busy": "2024-08-25T18:21:50.630034Z",
     "iopub.status.idle": "2024-08-25T18:21:50.636710Z",
     "shell.execute_reply": "2024-08-25T18:21:50.634974Z"
    },
    "papermill": {
     "duration": 0.016936,
     "end_time": "2024-08-25T18:21:50.639730",
     "exception": false,
     "start_time": "2024-08-25T18:21:50.622794",
     "status": "completed"
    },
    "tags": []
   },
   "outputs": [],
   "source": [
    "train_epoch_times_96 = checkpoint_data['train_epoch_times']\n",
    "full_epoch_times_96 = checkpoint_data['full_epoch_times']"
   ]
  },
  {
   "cell_type": "code",
   "execution_count": 9,
   "id": "15d29cff",
   "metadata": {
    "execution": {
     "iopub.execute_input": "2024-08-25T18:21:50.654115Z",
     "iopub.status.busy": "2024-08-25T18:21:50.653481Z",
     "iopub.status.idle": "2024-08-25T18:21:50.663900Z",
     "shell.execute_reply": "2024-08-25T18:21:50.661745Z"
    },
    "papermill": {
     "duration": 0.022702,
     "end_time": "2024-08-25T18:21:50.667861",
     "exception": false,
     "start_time": "2024-08-25T18:21:50.645159",
     "status": "completed"
    },
    "tags": []
   },
   "outputs": [],
   "source": [
    "data = np.array([ abs(sum(full_epoch_times_128)), abs(sum(full_epoch_times_96))])/3600"
   ]
  },
  {
   "cell_type": "code",
   "execution_count": 10,
   "id": "3b5865ac",
   "metadata": {
    "execution": {
     "iopub.execute_input": "2024-08-25T18:21:50.685577Z",
     "iopub.status.busy": "2024-08-25T18:21:50.684273Z",
     "iopub.status.idle": "2024-08-25T18:21:51.018964Z",
     "shell.execute_reply": "2024-08-25T18:21:51.017237Z"
    },
    "papermill": {
     "duration": 0.346674,
     "end_time": "2024-08-25T18:21:51.022258",
     "exception": false,
     "start_time": "2024-08-25T18:21:50.675584",
     "status": "completed"
    },
    "tags": []
   },
   "outputs": [
    {
     "data": {
      "image/png": "[encoded data removed]",
      "text/plain": [
       "<Figure size 640x480 with 1 Axes>"
      ]
     },
     "metadata": {},
     "output_type": "display_data"
    }
   ],
   "source": [
    "plt.bar(x=x,height=data)\n",
    "plt.ylabel('Time in hrs')\n",
    "plt.xlabel('Model variants')\n",
    "for i in range(len(x)):\n",
    "        plt.text(i-0.07,data[i]+0.05,f'{data[i]:.2f} hrs')"
   ]
  },
  {
   "cell_type": "code",
   "execution_count": 11,
   "id": "b94c0f65",
   "metadata": {
    "execution": {
     "iopub.execute_input": "2024-08-25T18:21:51.038185Z",
     "iopub.status.busy": "2024-08-25T18:21:51.037595Z",
     "iopub.status.idle": "2024-08-25T18:21:51.045558Z",
     "shell.execute_reply": "2024-08-25T18:21:51.043818Z"
    },
    "papermill": {
     "duration": 0.02002,
     "end_time": "2024-08-25T18:21:51.049197",
     "exception": false,
     "start_time": "2024-08-25T18:21:51.029177",
     "status": "completed"
    },
    "tags": []
   },
   "outputs": [],
   "source": [
    "data = np.array([ abs(sum(train_epoch_times_128)), abs(sum(train_epoch_times_96))])/3600"
   ]
  },
  {
   "cell_type": "code",
   "execution_count": 12,
   "id": "8194a575",
   "metadata": {
    "execution": {
     "iopub.execute_input": "2024-08-25T18:21:51.068126Z",
     "iopub.status.busy": "2024-08-25T18:21:51.067572Z",
     "iopub.status.idle": "2024-08-25T18:21:51.366492Z",
     "shell.execute_reply": "2024-08-25T18:21:51.364840Z"
    },
    "papermill": {
     "duration": 0.311999,
     "end_time": "2024-08-25T18:21:51.369727",
     "exception": false,
     "start_time": "2024-08-25T18:21:51.057728",
     "status": "completed"
    },
    "tags": []
   },
   "outputs": [
    {
     "data": {
      "image/png": "[encoded data removed]",
      "text/plain": [
       "<Figure size 640x480 with 1 Axes>"
      ]
     },
     "metadata": {},
     "output_type": "display_data"
    }
   ],
   "source": [
    "plt.bar(x=x,height=data)\n",
    "plt.ylabel('Time in hrs')\n",
    "plt.xlabel('Model variants')\n",
    "for i in range(len(x)):\n",
    "        plt.text(i-0.07,data[i]+0.05,f'{data[i]:.2f} hrs')"
   ]
  }
 ],
 "metadata": {
  "kaggle": {
   "accelerator": "none",
   "dataSources": [
    {
     "datasetId": 5494352,
     "sourceId": 9103712,
     "sourceType": "datasetVersion"
    },
    {
     "datasetId": 5504382,
     "sourceId": 9118668,
     "sourceType": "datasetVersion"
    }
   ],
   "dockerImageVersionId": 30761,
   "isGpuEnabled": false,
   "isInternetEnabled": true,
   "language": "python",
   "sourceType": "notebook"
  },
  "kernelspec": {
   "display_name": "Python 3",
   "language": "python",
   "name": "python3"
  },
  "language_info": {
   "codemirror_mode": {
    "name": "ipython",
    "version": 3
   },
   "file_extension": ".py",
   "mimetype": "text/x-python",
   "name": "python",
   "nbconvert_exporter": "python",
   "pygments_lexer": "ipython3",
   "version": "3.10.14"
  },
  "papermill": {
   "default_parameters": {},
   "duration": 11.830631,
   "end_time": "2024-08-25T18:21:52.604413",
   "environment_variables": {},
   "exception": null,
   "input_path": "__notebook__.ipynb",
   "output_path": "__notebook__.ipynb",
   "parameters": {},
   "start_time": "2024-08-25T18:21:40.773782",
   "version": "2.6.0"
  }
 },
 "nbformat": 4,
 "nbformat_minor": 5
}
