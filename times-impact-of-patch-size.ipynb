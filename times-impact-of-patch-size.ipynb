{
 "cells": [
  {
   "cell_type": "code",
   "execution_count": 1,
   "id": "e1ac939d",
   "metadata": {
    "execution": {
     "iopub.execute_input": "2024-08-25T18:08:51.060854Z",
     "iopub.status.busy": "2024-08-25T18:08:51.060414Z",
     "iopub.status.idle": "2024-08-25T18:08:54.456625Z",
     "shell.execute_reply": "2024-08-25T18:08:54.455433Z"
    },
    "papermill": {
     "duration": 3.40694,
     "end_time": "2024-08-25T18:08:54.459734",
     "exception": false,
     "start_time": "2024-08-25T18:08:51.052794",
     "status": "completed"
    },
    "tags": []
   },
   "outputs": [],
   "source": [
    "import torch\n",
    "import glob\n",
    "import re\n",
    "import matplotlib.pyplot as plt\n",
    "import numpy as np"
   ]
  },
  {
   "cell_type": "code",
   "execution_count": 2,
   "id": "ba586982",
   "metadata": {
    "execution": {
     "iopub.execute_input": "2024-08-25T18:08:54.471757Z",
     "iopub.status.busy": "2024-08-25T18:08:54.471173Z",
     "iopub.status.idle": "2024-08-25T18:08:54.476771Z",
     "shell.execute_reply": "2024-08-25T18:08:54.475529Z"
    },
    "papermill": {
     "duration": 0.014573,
     "end_time": "2024-08-25T18:08:54.479327",
     "exception": false,
     "start_time": "2024-08-25T18:08:54.464754",
     "status": "completed"
    },
    "tags": []
   },
   "outputs": [],
   "source": [
    "x = ['5 Layer UNet (base)','5 Layer UNet with small patch size']"
   ]
  },
  {
   "cell_type": "code",
   "execution_count": 3,
   "id": "567eb7f6",
   "metadata": {
    "execution": {
     "iopub.execute_input": "2024-08-25T18:08:54.490591Z",
     "iopub.status.busy": "2024-08-25T18:08:54.490149Z",
     "iopub.status.idle": "2024-08-25T18:08:54.495740Z",
     "shell.execute_reply": "2024-08-25T18:08:54.494460Z"
    },
    "papermill": {
     "duration": 0.014364,
     "end_time": "2024-08-25T18:08:54.498556",
     "exception": false,
     "start_time": "2024-08-25T18:08:54.484192",
     "status": "completed"
    },
    "tags": []
   },
   "outputs": [],
   "source": [
    "device = torch.device('cuda' if torch.cuda.is_available() else 'cpu')"
   ]
  },
  {
   "cell_type": "code",
   "execution_count": 4,
   "id": "b9e2ae03",
   "metadata": {
    "execution": {
     "iopub.execute_input": "2024-08-25T18:08:54.509734Z",
     "iopub.status.busy": "2024-08-25T18:08:54.509240Z",
     "iopub.status.idle": "2024-08-25T18:08:54.518663Z",
     "shell.execute_reply": "2024-08-25T18:08:54.517515Z"
    },
    "papermill": {
     "duration": 0.018119,
     "end_time": "2024-08-25T18:08:54.521353",
     "exception": false,
     "start_time": "2024-08-25T18:08:54.503234",
     "status": "completed"
    },
    "tags": []
   },
   "outputs": [],
   "source": [
    "def get_recent_checkpoint(dir_path, idx=0, ):\n",
    "    paths = glob.glob(dir_path+'/*')\n",
    "    \n",
    "    if len(paths)==0:\n",
    "        print('UUID not found')\n",
    "        return None, None\n",
    "    \n",
    "    a = []\n",
    "    \n",
    "    for path in paths:\n",
    "        data_file = path.split('/')[-1]\n",
    "        epoch = re.findall(r'\\d+', data_file)\n",
    "        a.append(int(epoch[0]))\n",
    "   \n",
    "    if len(a)>0:\n",
    "        recent_epoch = sorted(a, reverse=True)[idx]\n",
    "    else:\n",
    "        return None, None\n",
    "   \n",
    "    return recent_epoch, f'{dir_path}/data_{recent_epoch}.pkl'"
   ]
  },
  {
   "cell_type": "code",
   "execution_count": 5,
   "id": "37e48441",
   "metadata": {
    "_cell_guid": "b1076dfc-b9ad-4769-8c92-a6c4dae69d19",
    "_uuid": "8f2839f25d086af736a60e9eeb907d3b93b6e0e5",
    "execution": {
     "iopub.execute_input": "2024-08-25T18:08:54.533258Z",
     "iopub.status.busy": "2024-08-25T18:08:54.532228Z",
     "iopub.status.idle": "2024-08-25T18:08:55.777974Z",
     "shell.execute_reply": "2024-08-25T18:08:55.776645Z"
    },
    "papermill": {
     "duration": 1.254958,
     "end_time": "2024-08-25T18:08:55.781028",
     "exception": false,
     "start_time": "2024-08-25T18:08:54.526070",
     "status": "completed"
    },
    "tags": []
   },
   "outputs": [
    {
     "name": "stdout",
     "output_type": "stream",
     "text": [
      "Checkpoint found\n",
      "199 /kaggle/input/patch-small-cp/1d8cf009-8c1b-4f4b-9ba4-42079b1bbbe2/data_199.pkl\n"
     ]
    },
    {
     "name": "stderr",
     "output_type": "stream",
     "text": [
      "/tmp/ipykernel_17/2541577373.py:10: FutureWarning: You are using `torch.load` with `weights_only=False` (the current default value), which uses the default pickle module implicitly. It is possible to construct malicious pickle data which will execute arbitrary code during unpickling (See https://github.com/pytorch/pytorch/blob/main/SECURITY.md#untrusted-models for more details). In a future release, the default value for `weights_only` will be flipped to `True`. This limits the functions that could be executed during unpickling. Arbitrary objects will no longer be allowed to be loaded via this mode unless they are explicitly allowlisted by the user via `torch.serialization.add_safe_globals`. We recommend you start setting `weights_only=True` for any use case where you don't have full control of the loaded file. Please open an issue on GitHub for any issues related to this experimental feature.\n",
      "  best_checkpoint_data = torch.load(checkpoint_path, map_location=device)\n"
     ]
    }
   ],
   "source": [
    "idx, checkpoint_path = get_recent_checkpoint(dir_path='/kaggle/input/patch-small-cp/1d8cf009-8c1b-4f4b-9ba4-42079b1bbbe2', idx=0)\n",
    "\n",
    "print(\"No checkpoint found\" if checkpoint_path == None else \"Checkpoint found\")\n",
    "print(idx, checkpoint_path)\n",
    "\n",
    "checkpoint_data = None\n",
    "\n",
    "if checkpoint_path!=None:\n",
    "\n",
    "    best_checkpoint_data = torch.load(checkpoint_path, map_location=device)\n",
    "\n",
    "    config = best_checkpoint_data['config']\n",
    "    \n",
    "    exclude_list = ['config', 'net_state_dict', 'optimizer_state_dict']\n",
    "    \n",
    "    checkpoint_data = {}\n",
    "    \n",
    "    for i in best_checkpoint_data.keys():\n",
    "        if i not in exclude_list:\n",
    "            checkpoint_data[i] = best_checkpoint_data[i]"
   ]
  },
  {
   "cell_type": "code",
   "execution_count": 6,
   "id": "a73b5316",
   "metadata": {
    "execution": {
     "iopub.execute_input": "2024-08-25T18:08:55.792801Z",
     "iopub.status.busy": "2024-08-25T18:08:55.792359Z",
     "iopub.status.idle": "2024-08-25T18:08:55.798651Z",
     "shell.execute_reply": "2024-08-25T18:08:55.797353Z"
    },
    "papermill": {
     "duration": 0.015153,
     "end_time": "2024-08-25T18:08:55.801260",
     "exception": false,
     "start_time": "2024-08-25T18:08:55.786107",
     "status": "completed"
    },
    "tags": []
   },
   "outputs": [],
   "source": [
    "train_epoch_times_128 = checkpoint_data['train_epoch_times']\n",
    "full_epoch_times_128 = checkpoint_data['full_epoch_times']"
   ]
  },
  {
   "cell_type": "code",
   "execution_count": 7,
   "id": "dde32f67",
   "metadata": {
    "execution": {
     "iopub.execute_input": "2024-08-25T18:08:55.813142Z",
     "iopub.status.busy": "2024-08-25T18:08:55.812670Z",
     "iopub.status.idle": "2024-08-25T18:08:56.678947Z",
     "shell.execute_reply": "2024-08-25T18:08:56.677712Z"
    },
    "papermill": {
     "duration": 0.875551,
     "end_time": "2024-08-25T18:08:56.681823",
     "exception": false,
     "start_time": "2024-08-25T18:08:55.806272",
     "status": "completed"
    },
    "tags": []
   },
   "outputs": [
    {
     "name": "stdout",
     "output_type": "stream",
     "text": [
      "Checkpoint found\n",
      "199 /kaggle/input/spatch-small-cp/a5c3ef55-0694-4ae5-aa69-2ccddbe6dbc0/data_199.pkl\n"
     ]
    },
    {
     "name": "stderr",
     "output_type": "stream",
     "text": [
      "/tmp/ipykernel_17/1522255128.py:10: FutureWarning: You are using `torch.load` with `weights_only=False` (the current default value), which uses the default pickle module implicitly. It is possible to construct malicious pickle data which will execute arbitrary code during unpickling (See https://github.com/pytorch/pytorch/blob/main/SECURITY.md#untrusted-models for more details). In a future release, the default value for `weights_only` will be flipped to `True`. This limits the functions that could be executed during unpickling. Arbitrary objects will no longer be allowed to be loaded via this mode unless they are explicitly allowlisted by the user via `torch.serialization.add_safe_globals`. We recommend you start setting `weights_only=True` for any use case where you don't have full control of the loaded file. Please open an issue on GitHub for any issues related to this experimental feature.\n",
      "  best_checkpoint_data = torch.load(checkpoint_path, map_location=device)\n"
     ]
    }
   ],
   "source": [
    "idx, checkpoint_path = get_recent_checkpoint(dir_path='/kaggle/input/spatch-small-cp/a5c3ef55-0694-4ae5-aa69-2ccddbe6dbc0', idx=0)\n",
    "\n",
    "print(\"No checkpoint found\" if checkpoint_path == None else \"Checkpoint found\")\n",
    "print(idx, checkpoint_path)\n",
    "\n",
    "checkpoint_data = None\n",
    "\n",
    "if checkpoint_path!=None:\n",
    "\n",
    "    best_checkpoint_data = torch.load(checkpoint_path, map_location=device)\n",
    "\n",
    "    config = best_checkpoint_data['config']\n",
    "    \n",
    "    exclude_list = ['config', 'net_state_dict', 'optimizer_state_dict']\n",
    "    \n",
    "    checkpoint_data = {}\n",
    "    \n",
    "    for i in best_checkpoint_data.keys():\n",
    "        if i not in exclude_list:\n",
    "            checkpoint_data[i] = best_checkpoint_data[i]"
   ]
  },
  {
   "cell_type": "code",
   "execution_count": 8,
   "id": "bd787087",
   "metadata": {
    "execution": {
     "iopub.execute_input": "2024-08-25T18:08:56.694908Z",
     "iopub.status.busy": "2024-08-25T18:08:56.694449Z",
     "iopub.status.idle": "2024-08-25T18:08:56.700054Z",
     "shell.execute_reply": "2024-08-25T18:08:56.698883Z"
    },
    "papermill": {
     "duration": 0.015333,
     "end_time": "2024-08-25T18:08:56.702843",
     "exception": false,
     "start_time": "2024-08-25T18:08:56.687510",
     "status": "completed"
    },
    "tags": []
   },
   "outputs": [],
   "source": [
    "train_epoch_times_96 = checkpoint_data['train_epoch_times']\n",
    "full_epoch_times_96 = checkpoint_data['full_epoch_times']"
   ]
  },
  {
   "cell_type": "code",
   "execution_count": 9,
   "id": "a26e60d9",
   "metadata": {
    "execution": {
     "iopub.execute_input": "2024-08-25T18:08:56.715314Z",
     "iopub.status.busy": "2024-08-25T18:08:56.714840Z",
     "iopub.status.idle": "2024-08-25T18:08:56.720529Z",
     "shell.execute_reply": "2024-08-25T18:08:56.719425Z"
    },
    "papermill": {
     "duration": 0.014896,
     "end_time": "2024-08-25T18:08:56.722967",
     "exception": false,
     "start_time": "2024-08-25T18:08:56.708071",
     "status": "completed"
    },
    "tags": []
   },
   "outputs": [],
   "source": [
    "data = np.array([ abs(sum(full_epoch_times_128)), abs(sum(full_epoch_times_96))])/3600"
   ]
  },
  {
   "cell_type": "code",
   "execution_count": 10,
   "id": "43c473e8",
   "metadata": {
    "execution": {
     "iopub.execute_input": "2024-08-25T18:08:56.734772Z",
     "iopub.status.busy": "2024-08-25T18:08:56.734328Z",
     "iopub.status.idle": "2024-08-25T18:08:57.029642Z",
     "shell.execute_reply": "2024-08-25T18:08:57.028427Z"
    },
    "papermill": {
     "duration": 0.304617,
     "end_time": "2024-08-25T18:08:57.032667",
     "exception": false,
     "start_time": "2024-08-25T18:08:56.728050",
     "status": "completed"
    },
    "tags": []
   },
   "outputs": [
    {
     "data": {
      "image/png": "[encoded data removed]",
      "text/plain": [
       "<Figure size 640x480 with 1 Axes>"
      ]
     },
     "metadata": {},
     "output_type": "display_data"
    }
   ],
   "source": [
    "plt.bar(x=x,height=data)\n",
    "plt.ylabel('Time in hrs')\n",
    "plt.xlabel('Model variants')\n",
    "for i in range(len(x)):\n",
    "        plt.text(i-0.07,data[i]+0.05,f'{data[i]:.2f} hrs')"
   ]
  },
  {
   "cell_type": "code",
   "execution_count": null,
   "id": "8a4bed37",
   "metadata": {
    "papermill": {
     "duration": 0.005187,
     "end_time": "2024-08-25T18:08:57.043536",
     "exception": false,
     "start_time": "2024-08-25T18:08:57.038349",
     "status": "completed"
    },
    "tags": []
   },
   "outputs": [],
   "source": []
  }
 ],
 "metadata": {
  "kaggle": {
   "accelerator": "none",
   "dataSources": [
    {
     "datasetId": 5504382,
     "sourceId": 9118668,
     "sourceType": "datasetVersion"
    },
    {
     "datasetId": 5494352,
     "sourceId": 9103712,
     "sourceType": "datasetVersion"
    }
   ],
   "dockerImageVersionId": 30761,
   "isGpuEnabled": false,
   "isInternetEnabled": true,
   "language": "python",
   "sourceType": "notebook"
  },
  "kernelspec": {
   "display_name": "Python 3",
   "language": "python",
   "name": "python3"
  },
  "language_info": {
   "codemirror_mode": {
    "name": "ipython",
    "version": 3
   },
   "file_extension": ".py",
   "mimetype": "text/x-python",
   "name": "python",
   "nbconvert_exporter": "python",
   "pygments_lexer": "ipython3",
   "version": "3.10.14"
  },
  "papermill": {
   "default_parameters": {},
   "duration": 10.164104,
   "end_time": "2024-08-25T18:08:58.072029",
   "environment_variables": {},
   "exception": null,
   "input_path": "__notebook__.ipynb",
   "output_path": "__notebook__.ipynb",
   "parameters": {},
   "start_time": "2024-08-25T18:08:47.907925",
   "version": "2.6.0"
  }
 },
 "nbformat": 4,
 "nbformat_minor": 5
}
