{
 "cells": [
  {
   "cell_type": "code",
   "execution_count": 1,
   "id": "0539cebc",
   "metadata": {
    "execution": {
     "iopub.execute_input": "2024-08-25T18:00:23.782382Z",
     "iopub.status.busy": "2024-08-25T18:00:23.781940Z",
     "iopub.status.idle": "2024-08-25T18:00:27.040585Z",
     "shell.execute_reply": "2024-08-25T18:00:27.039499Z"
    },
    "papermill": {
     "duration": 3.26846,
     "end_time": "2024-08-25T18:00:27.043333",
     "exception": false,
     "start_time": "2024-08-25T18:00:23.774873",
     "status": "completed"
    },
    "tags": []
   },
   "outputs": [],
   "source": [
    "import torch\n",
    "import glob\n",
    "import re\n",
    "import matplotlib.pyplot as plt\n",
    "import numpy as np"
   ]
  },
  {
   "cell_type": "code",
   "execution_count": 2,
   "id": "b8f9d89d",
   "metadata": {
    "execution": {
     "iopub.execute_input": "2024-08-25T18:00:27.055376Z",
     "iopub.status.busy": "2024-08-25T18:00:27.054754Z",
     "iopub.status.idle": "2024-08-25T18:00:27.060583Z",
     "shell.execute_reply": "2024-08-25T18:00:27.059415Z"
    },
    "papermill": {
     "duration": 0.014824,
     "end_time": "2024-08-25T18:00:27.063133",
     "exception": false,
     "start_time": "2024-08-25T18:00:27.048309",
     "status": "completed"
    },
    "tags": []
   },
   "outputs": [],
   "source": [
    "x = ['5 Layer UNet (base)','5 Layer UNet with small patch size']"
   ]
  },
  {
   "cell_type": "code",
   "execution_count": 3,
   "id": "46364ba7",
   "metadata": {
    "execution": {
     "iopub.execute_input": "2024-08-25T18:00:27.074711Z",
     "iopub.status.busy": "2024-08-25T18:00:27.073909Z",
     "iopub.status.idle": "2024-08-25T18:00:27.079549Z",
     "shell.execute_reply": "2024-08-25T18:00:27.078380Z"
    },
    "papermill": {
     "duration": 0.014035,
     "end_time": "2024-08-25T18:00:27.081964",
     "exception": false,
     "start_time": "2024-08-25T18:00:27.067929",
     "status": "completed"
    },
    "tags": []
   },
   "outputs": [],
   "source": [
    "device = torch.device('cuda' if torch.cuda.is_available() else 'cpu')"
   ]
  },
  {
   "cell_type": "code",
   "execution_count": 4,
   "id": "70d6b5b8",
   "metadata": {
    "execution": {
     "iopub.execute_input": "2024-08-25T18:00:27.093003Z",
     "iopub.status.busy": "2024-08-25T18:00:27.092514Z",
     "iopub.status.idle": "2024-08-25T18:00:27.101234Z",
     "shell.execute_reply": "2024-08-25T18:00:27.099999Z"
    },
    "papermill": {
     "duration": 0.017323,
     "end_time": "2024-08-25T18:00:27.103885",
     "exception": false,
     "start_time": "2024-08-25T18:00:27.086562",
     "status": "completed"
    },
    "tags": []
   },
   "outputs": [],
   "source": [
    "def get_recent_checkpoint(dir_path, idx=0, ):\n",
    "    paths = glob.glob(dir_path+'/*')\n",
    "    \n",
    "    if len(paths)==0:\n",
    "        print('UUID not found')\n",
    "        return None, None\n",
    "    \n",
    "    a = []\n",
    "    \n",
    "    for path in paths:\n",
    "        data_file = path.split('/')[-1]\n",
    "        epoch = re.findall(r'\\d+', data_file)\n",
    "        a.append(int(epoch[0]))\n",
    "   \n",
    "    if len(a)>0:\n",
    "        recent_epoch = sorted(a, reverse=True)[idx]\n",
    "    else:\n",
    "        return None, None\n",
    "   \n",
    "    return recent_epoch, f'{dir_path}/data_{recent_epoch}.pkl'"
   ]
  },
  {
   "cell_type": "code",
   "execution_count": 5,
   "id": "2ebae175",
   "metadata": {
    "_cell_guid": "b1076dfc-b9ad-4769-8c92-a6c4dae69d19",
    "_uuid": "8f2839f25d086af736a60e9eeb907d3b93b6e0e5",
    "execution": {
     "iopub.execute_input": "2024-08-25T18:00:27.115017Z",
     "iopub.status.busy": "2024-08-25T18:00:27.114542Z",
     "iopub.status.idle": "2024-08-25T18:00:29.136221Z",
     "shell.execute_reply": "2024-08-25T18:00:29.135038Z"
    },
    "papermill": {
     "duration": 2.030753,
     "end_time": "2024-08-25T18:00:29.139306",
     "exception": false,
     "start_time": "2024-08-25T18:00:27.108553",
     "status": "completed"
    },
    "tags": []
   },
   "outputs": [
    {
     "name": "stdout",
     "output_type": "stream",
     "text": [
      "Checkpoint found\n",
      "199 /kaggle/input/patch-small-cp/1d8cf009-8c1b-4f4b-9ba4-42079b1bbbe2/data_199.pkl\n"
     ]
    },
    {
     "name": "stderr",
     "output_type": "stream",
     "text": [
      "/tmp/ipykernel_17/2541577373.py:10: FutureWarning: You are using `torch.load` with `weights_only=False` (the current default value), which uses the default pickle module implicitly. It is possible to construct malicious pickle data which will execute arbitrary code during unpickling (See https://github.com/pytorch/pytorch/blob/main/SECURITY.md#untrusted-models for more details). In a future release, the default value for `weights_only` will be flipped to `True`. This limits the functions that could be executed during unpickling. Arbitrary objects will no longer be allowed to be loaded via this mode unless they are explicitly allowlisted by the user via `torch.serialization.add_safe_globals`. We recommend you start setting `weights_only=True` for any use case where you don't have full control of the loaded file. Please open an issue on GitHub for any issues related to this experimental feature.\n",
      "  best_checkpoint_data = torch.load(checkpoint_path, map_location=device)\n"
     ]
    }
   ],
   "source": [
    "idx, checkpoint_path = get_recent_checkpoint(dir_path='/kaggle/input/patch-small-cp/1d8cf009-8c1b-4f4b-9ba4-42079b1bbbe2', idx=0)\n",
    "\n",
    "print(\"No checkpoint found\" if checkpoint_path == None else \"Checkpoint found\")\n",
    "print(idx, checkpoint_path)\n",
    "\n",
    "checkpoint_data = None\n",
    "\n",
    "if checkpoint_path!=None:\n",
    "\n",
    "    best_checkpoint_data = torch.load(checkpoint_path, map_location=device)\n",
    "\n",
    "    config = best_checkpoint_data['config']\n",
    "    \n",
    "    exclude_list = ['config', 'net_state_dict', 'optimizer_state_dict']\n",
    "    \n",
    "    checkpoint_data = {}\n",
    "    \n",
    "    for i in best_checkpoint_data.keys():\n",
    "        if i not in exclude_list:\n",
    "            checkpoint_data[i] = best_checkpoint_data[i]"
   ]
  },
  {
   "cell_type": "code",
   "execution_count": 6,
   "id": "ac50485d",
   "metadata": {
    "execution": {
     "iopub.execute_input": "2024-08-25T18:00:29.151131Z",
     "iopub.status.busy": "2024-08-25T18:00:29.150642Z",
     "iopub.status.idle": "2024-08-25T18:00:29.156860Z",
     "shell.execute_reply": "2024-08-25T18:00:29.155460Z"
    },
    "papermill": {
     "duration": 0.015015,
     "end_time": "2024-08-25T18:00:29.159408",
     "exception": false,
     "start_time": "2024-08-25T18:00:29.144393",
     "status": "completed"
    },
    "tags": []
   },
   "outputs": [],
   "source": [
    "train_epoch_times_128 = checkpoint_data['train_epoch_times']\n",
    "full_epoch_times_128 = checkpoint_data['full_epoch_times']"
   ]
  },
  {
   "cell_type": "code",
   "execution_count": 7,
   "id": "220084c5",
   "metadata": {
    "execution": {
     "iopub.execute_input": "2024-08-25T18:00:29.170989Z",
     "iopub.status.busy": "2024-08-25T18:00:29.170528Z",
     "iopub.status.idle": "2024-08-25T18:00:30.217485Z",
     "shell.execute_reply": "2024-08-25T18:00:30.216394Z"
    },
    "papermill": {
     "duration": 1.056092,
     "end_time": "2024-08-25T18:00:30.220438",
     "exception": false,
     "start_time": "2024-08-25T18:00:29.164346",
     "status": "completed"
    },
    "tags": []
   },
   "outputs": [
    {
     "name": "stdout",
     "output_type": "stream",
     "text": [
      "Checkpoint found\n",
      "199 /kaggle/input/spatch-small-cp/a5c3ef55-0694-4ae5-aa69-2ccddbe6dbc0/data_199.pkl\n"
     ]
    },
    {
     "name": "stderr",
     "output_type": "stream",
     "text": [
      "/tmp/ipykernel_17/1522255128.py:10: FutureWarning: You are using `torch.load` with `weights_only=False` (the current default value), which uses the default pickle module implicitly. It is possible to construct malicious pickle data which will execute arbitrary code during unpickling (See https://github.com/pytorch/pytorch/blob/main/SECURITY.md#untrusted-models for more details). In a future release, the default value for `weights_only` will be flipped to `True`. This limits the functions that could be executed during unpickling. Arbitrary objects will no longer be allowed to be loaded via this mode unless they are explicitly allowlisted by the user via `torch.serialization.add_safe_globals`. We recommend you start setting `weights_only=True` for any use case where you don't have full control of the loaded file. Please open an issue on GitHub for any issues related to this experimental feature.\n",
      "  best_checkpoint_data = torch.load(checkpoint_path, map_location=device)\n"
     ]
    }
   ],
   "source": [
    "idx, checkpoint_path = get_recent_checkpoint(dir_path='/kaggle/input/spatch-small-cp/a5c3ef55-0694-4ae5-aa69-2ccddbe6dbc0', idx=0)\n",
    "\n",
    "print(\"No checkpoint found\" if checkpoint_path == None else \"Checkpoint found\")\n",
    "print(idx, checkpoint_path)\n",
    "\n",
    "checkpoint_data = None\n",
    "\n",
    "if checkpoint_path!=None:\n",
    "\n",
    "    best_checkpoint_data = torch.load(checkpoint_path, map_location=device)\n",
    "\n",
    "    config = best_checkpoint_data['config']\n",
    "    \n",
    "    exclude_list = ['config', 'net_state_dict', 'optimizer_state_dict']\n",
    "    \n",
    "    checkpoint_data = {}\n",
    "    \n",
    "    for i in best_checkpoint_data.keys():\n",
    "        if i not in exclude_list:\n",
    "            checkpoint_data[i] = best_checkpoint_data[i]"
   ]
  },
  {
   "cell_type": "code",
   "execution_count": 8,
   "id": "71f0dec0",
   "metadata": {
    "execution": {
     "iopub.execute_input": "2024-08-25T18:00:30.232576Z",
     "iopub.status.busy": "2024-08-25T18:00:30.232132Z",
     "iopub.status.idle": "2024-08-25T18:00:30.237920Z",
     "shell.execute_reply": "2024-08-25T18:00:30.236481Z"
    },
    "papermill": {
     "duration": 0.014863,
     "end_time": "2024-08-25T18:00:30.240496",
     "exception": false,
     "start_time": "2024-08-25T18:00:30.225633",
     "status": "completed"
    },
    "tags": []
   },
   "outputs": [],
   "source": [
    "train_epoch_times_96 = checkpoint_data['train_epoch_times']\n",
    "full_epoch_times_96 = checkpoint_data['full_epoch_times']"
   ]
  },
  {
   "cell_type": "code",
   "execution_count": 9,
   "id": "e4cc2b34",
   "metadata": {
    "execution": {
     "iopub.execute_input": "2024-08-25T18:00:30.252826Z",
     "iopub.status.busy": "2024-08-25T18:00:30.252379Z",
     "iopub.status.idle": "2024-08-25T18:00:30.258316Z",
     "shell.execute_reply": "2024-08-25T18:00:30.257034Z"
    },
    "papermill": {
     "duration": 0.014727,
     "end_time": "2024-08-25T18:00:30.260700",
     "exception": false,
     "start_time": "2024-08-25T18:00:30.245973",
     "status": "completed"
    },
    "tags": []
   },
   "outputs": [],
   "source": [
    "data = np.array([ abs(sum(full_epoch_times_128)), abs(sum(full_epoch_times_96))])/3600"
   ]
  },
  {
   "cell_type": "code",
   "execution_count": 10,
   "id": "40696695",
   "metadata": {
    "execution": {
     "iopub.execute_input": "2024-08-25T18:00:30.272465Z",
     "iopub.status.busy": "2024-08-25T18:00:30.272029Z",
     "iopub.status.idle": "2024-08-25T18:00:30.565382Z",
     "shell.execute_reply": "2024-08-25T18:00:30.563706Z"
    },
    "papermill": {
     "duration": 0.302965,
     "end_time": "2024-08-25T18:00:30.568708",
     "exception": false,
     "start_time": "2024-08-25T18:00:30.265743",
     "status": "completed"
    },
    "tags": []
   },
   "outputs": [
    {
     "data": {
      "text/plain": [
       "Text(0.5, 0, 'Model variants')"
      ]
     },
     "execution_count": 10,
     "metadata": {},
     "output_type": "execute_result"
    },
    {
     "data": {
      "image/png": "[encoded data removed]",
      "text/plain": [
       "<Figure size 640x480 with 1 Axes>"
      ]
     },
     "metadata": {},
     "output_type": "display_data"
    }
   ],
   "source": [
    "plt.bar(x=x,height=data)\n",
    "plt.ylabel('Time in hrs')\n",
    "plt.xlabel('Model variants')"
   ]
  },
  {
   "cell_type": "code",
   "execution_count": null,
   "id": "f84d80b5",
   "metadata": {
    "papermill": {
     "duration": 0.007976,
     "end_time": "2024-08-25T18:00:30.582745",
     "exception": false,
     "start_time": "2024-08-25T18:00:30.574769",
     "status": "completed"
    },
    "tags": []
   },
   "outputs": [],
   "source": []
  }
 ],
 "metadata": {
  "kaggle": {
   "accelerator": "none",
   "dataSources": [
    {
     "datasetId": 5504382,
     "sourceId": 9118668,
     "sourceType": "datasetVersion"
    },
    {
     "datasetId": 5494352,
     "sourceId": 9103712,
     "sourceType": "datasetVersion"
    }
   ],
   "dockerImageVersionId": 30761,
   "isGpuEnabled": false,
   "isInternetEnabled": true,
   "language": "python",
   "sourceType": "notebook"
  },
  "kernelspec": {
   "display_name": "Python 3",
   "language": "python",
   "name": "python3"
  },
  "language_info": {
   "codemirror_mode": {
    "name": "ipython",
    "version": 3
   },
   "file_extension": ".py",
   "mimetype": "text/x-python",
   "name": "python",
   "nbconvert_exporter": "python",
   "pygments_lexer": "ipython3",
   "version": "3.10.14"
  },
  "papermill": {
   "default_parameters": {},
   "duration": 10.712448,
   "end_time": "2024-08-25T18:00:31.514383",
   "environment_variables": {},
   "exception": null,
   "input_path": "__notebook__.ipynb",
   "output_path": "__notebook__.ipynb",
   "parameters": {},
   "start_time": "2024-08-25T18:00:20.801935",
   "version": "2.6.0"
  }
 },
 "nbformat": 4,
 "nbformat_minor": 5
}
