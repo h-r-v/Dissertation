{
 "cells": [
  {
   "cell_type": "code",
   "execution_count": 1,
   "id": "2a2e5886",
   "metadata": {
    "execution": {
     "iopub.execute_input": "2024-08-25T18:22:07.047602Z",
     "iopub.status.busy": "2024-08-25T18:22:07.047173Z",
     "iopub.status.idle": "2024-08-25T18:22:10.124996Z",
     "shell.execute_reply": "2024-08-25T18:22:10.123734Z"
    },
    "papermill": {
     "duration": 3.086957,
     "end_time": "2024-08-25T18:22:10.127515",
     "exception": false,
     "start_time": "2024-08-25T18:22:07.040558",
     "status": "completed"
    },
    "tags": []
   },
   "outputs": [],
   "source": [
    "import torch\n",
    "import glob\n",
    "import re\n",
    "import matplotlib.pyplot as plt\n",
    "import numpy as np"
   ]
  },
  {
   "cell_type": "code",
   "execution_count": 2,
   "id": "ad83b6ad",
   "metadata": {
    "execution": {
     "iopub.execute_input": "2024-08-25T18:22:10.137578Z",
     "iopub.status.busy": "2024-08-25T18:22:10.137010Z",
     "iopub.status.idle": "2024-08-25T18:22:10.142464Z",
     "shell.execute_reply": "2024-08-25T18:22:10.141173Z"
    },
    "papermill": {
     "duration": 0.013008,
     "end_time": "2024-08-25T18:22:10.144718",
     "exception": false,
     "start_time": "2024-08-25T18:22:10.131710",
     "status": "completed"
    },
    "tags": []
   },
   "outputs": [],
   "source": [
    "x = ['5 Layer UNet (base)','7 Layer UNet']"
   ]
  },
  {
   "cell_type": "code",
   "execution_count": 3,
   "id": "3ec48537",
   "metadata": {
    "execution": {
     "iopub.execute_input": "2024-08-25T18:22:10.154273Z",
     "iopub.status.busy": "2024-08-25T18:22:10.153878Z",
     "iopub.status.idle": "2024-08-25T18:22:10.158946Z",
     "shell.execute_reply": "2024-08-25T18:22:10.157821Z"
    },
    "papermill": {
     "duration": 0.012645,
     "end_time": "2024-08-25T18:22:10.161385",
     "exception": false,
     "start_time": "2024-08-25T18:22:10.148740",
     "status": "completed"
    },
    "tags": []
   },
   "outputs": [],
   "source": [
    "device = torch.device('cuda' if torch.cuda.is_available() else 'cpu')"
   ]
  },
  {
   "cell_type": "code",
   "execution_count": 4,
   "id": "e89b5648",
   "metadata": {
    "execution": {
     "iopub.execute_input": "2024-08-25T18:22:10.170921Z",
     "iopub.status.busy": "2024-08-25T18:22:10.170511Z",
     "iopub.status.idle": "2024-08-25T18:22:10.177893Z",
     "shell.execute_reply": "2024-08-25T18:22:10.176775Z"
    },
    "papermill": {
     "duration": 0.014924,
     "end_time": "2024-08-25T18:22:10.180241",
     "exception": false,
     "start_time": "2024-08-25T18:22:10.165317",
     "status": "completed"
    },
    "tags": []
   },
   "outputs": [],
   "source": [
    "def get_recent_checkpoint(dir_path, idx=0, ):\n",
    "    paths = glob.glob(dir_path+'/*')\n",
    "    \n",
    "    if len(paths)==0:\n",
    "        print('UUID not found')\n",
    "        return None, None\n",
    "    \n",
    "    a = []\n",
    "    \n",
    "    for path in paths:\n",
    "        data_file = path.split('/')[-1]\n",
    "        epoch = re.findall(r'\\d+', data_file)\n",
    "        a.append(int(epoch[0]))\n",
    "   \n",
    "    if len(a)>0:\n",
    "        recent_epoch = sorted(a, reverse=True)[idx]\n",
    "    else:\n",
    "        return None, None\n",
    "   \n",
    "    return recent_epoch, f'{dir_path}/data_{recent_epoch}.pkl'"
   ]
  },
  {
   "cell_type": "code",
   "execution_count": 5,
   "id": "37088431",
   "metadata": {
    "_cell_guid": "b1076dfc-b9ad-4769-8c92-a6c4dae69d19",
    "_uuid": "8f2839f25d086af736a60e9eeb907d3b93b6e0e5",
    "execution": {
     "iopub.execute_input": "2024-08-25T18:22:10.189991Z",
     "iopub.status.busy": "2024-08-25T18:22:10.189558Z",
     "iopub.status.idle": "2024-08-25T18:22:11.762582Z",
     "shell.execute_reply": "2024-08-25T18:22:11.761457Z"
    },
    "papermill": {
     "duration": 1.581084,
     "end_time": "2024-08-25T18:22:11.765245",
     "exception": false,
     "start_time": "2024-08-25T18:22:10.184161",
     "status": "completed"
    },
    "tags": []
   },
   "outputs": [
    {
     "name": "stdout",
     "output_type": "stream",
     "text": [
      "Checkpoint found\n",
      "199 /kaggle/input/patch-small-cp/1d8cf009-8c1b-4f4b-9ba4-42079b1bbbe2/data_199.pkl\n"
     ]
    },
    {
     "name": "stderr",
     "output_type": "stream",
     "text": [
      "/tmp/ipykernel_18/2541577373.py:10: FutureWarning: You are using `torch.load` with `weights_only=False` (the current default value), which uses the default pickle module implicitly. It is possible to construct malicious pickle data which will execute arbitrary code during unpickling (See https://github.com/pytorch/pytorch/blob/main/SECURITY.md#untrusted-models for more details). In a future release, the default value for `weights_only` will be flipped to `True`. This limits the functions that could be executed during unpickling. Arbitrary objects will no longer be allowed to be loaded via this mode unless they are explicitly allowlisted by the user via `torch.serialization.add_safe_globals`. We recommend you start setting `weights_only=True` for any use case where you don't have full control of the loaded file. Please open an issue on GitHub for any issues related to this experimental feature.\n",
      "  best_checkpoint_data = torch.load(checkpoint_path, map_location=device)\n"
     ]
    }
   ],
   "source": [
    "idx, checkpoint_path = get_recent_checkpoint(dir_path='/kaggle/input/patch-small-cp/1d8cf009-8c1b-4f4b-9ba4-42079b1bbbe2', idx=0)\n",
    "\n",
    "print(\"No checkpoint found\" if checkpoint_path == None else \"Checkpoint found\")\n",
    "print(idx, checkpoint_path)\n",
    "\n",
    "checkpoint_data = None\n",
    "\n",
    "if checkpoint_path!=None:\n",
    "\n",
    "    best_checkpoint_data = torch.load(checkpoint_path, map_location=device)\n",
    "\n",
    "    config = best_checkpoint_data['config']\n",
    "    \n",
    "    exclude_list = ['config', 'net_state_dict', 'optimizer_state_dict']\n",
    "    \n",
    "    checkpoint_data = {}\n",
    "    \n",
    "    for i in best_checkpoint_data.keys():\n",
    "        if i not in exclude_list:\n",
    "            checkpoint_data[i] = best_checkpoint_data[i]"
   ]
  },
  {
   "cell_type": "code",
   "execution_count": 6,
   "id": "1c79b22c",
   "metadata": {
    "execution": {
     "iopub.execute_input": "2024-08-25T18:22:11.775228Z",
     "iopub.status.busy": "2024-08-25T18:22:11.774858Z",
     "iopub.status.idle": "2024-08-25T18:22:11.779815Z",
     "shell.execute_reply": "2024-08-25T18:22:11.778730Z"
    },
    "papermill": {
     "duration": 0.012576,
     "end_time": "2024-08-25T18:22:11.782114",
     "exception": false,
     "start_time": "2024-08-25T18:22:11.769538",
     "status": "completed"
    },
    "tags": []
   },
   "outputs": [],
   "source": [
    "train_epoch_times_128 = checkpoint_data['train_epoch_times']\n",
    "full_epoch_times_128 = checkpoint_data['full_epoch_times']"
   ]
  },
  {
   "cell_type": "code",
   "execution_count": 7,
   "id": "250f1878",
   "metadata": {
    "execution": {
     "iopub.execute_input": "2024-08-25T18:22:11.792022Z",
     "iopub.status.busy": "2024-08-25T18:22:11.791628Z",
     "iopub.status.idle": "2024-08-25T18:22:28.721580Z",
     "shell.execute_reply": "2024-08-25T18:22:28.720338Z"
    },
    "papermill": {
     "duration": 16.938029,
     "end_time": "2024-08-25T18:22:28.724274",
     "exception": false,
     "start_time": "2024-08-25T18:22:11.786245",
     "status": "completed"
    },
    "tags": []
   },
   "outputs": [
    {
     "name": "stdout",
     "output_type": "stream",
     "text": [
      "Checkpoint found\n",
      "199 /kaggle/input/parch-cp-1/d6b2447e-a5d0-4d49-93fe-f78240539e00/data_199.pkl\n"
     ]
    },
    {
     "name": "stderr",
     "output_type": "stream",
     "text": [
      "/tmp/ipykernel_18/1797171250.py:10: FutureWarning: You are using `torch.load` with `weights_only=False` (the current default value), which uses the default pickle module implicitly. It is possible to construct malicious pickle data which will execute arbitrary code during unpickling (See https://github.com/pytorch/pytorch/blob/main/SECURITY.md#untrusted-models for more details). In a future release, the default value for `weights_only` will be flipped to `True`. This limits the functions that could be executed during unpickling. Arbitrary objects will no longer be allowed to be loaded via this mode unless they are explicitly allowlisted by the user via `torch.serialization.add_safe_globals`. We recommend you start setting `weights_only=True` for any use case where you don't have full control of the loaded file. Please open an issue on GitHub for any issues related to this experimental feature.\n",
      "  best_checkpoint_data = torch.load(checkpoint_path, map_location=device)\n"
     ]
    }
   ],
   "source": [
    "idx, checkpoint_path = get_recent_checkpoint(dir_path='/kaggle/input/parch-cp-1/d6b2447e-a5d0-4d49-93fe-f78240539e00', idx=0)\n",
    "\n",
    "print(\"No checkpoint found\" if checkpoint_path == None else \"Checkpoint found\")\n",
    "print(idx, checkpoint_path)\n",
    "\n",
    "checkpoint_data = None\n",
    "\n",
    "if checkpoint_path!=None:\n",
    "\n",
    "    best_checkpoint_data = torch.load(checkpoint_path, map_location=device)\n",
    "\n",
    "    config = best_checkpoint_data['config']\n",
    "    \n",
    "    exclude_list = ['config', 'net_state_dict', 'optimizer_state_dict']\n",
    "    \n",
    "    checkpoint_data = {}\n",
    "    \n",
    "    for i in best_checkpoint_data.keys():\n",
    "        if i not in exclude_list:\n",
    "            checkpoint_data[i] = best_checkpoint_data[i]"
   ]
  },
  {
   "cell_type": "code",
   "execution_count": 8,
   "id": "1d37d1b0",
   "metadata": {
    "execution": {
     "iopub.execute_input": "2024-08-25T18:22:28.734604Z",
     "iopub.status.busy": "2024-08-25T18:22:28.734186Z",
     "iopub.status.idle": "2024-08-25T18:22:28.738913Z",
     "shell.execute_reply": "2024-08-25T18:22:28.737836Z"
    },
    "papermill": {
     "duration": 0.01237,
     "end_time": "2024-08-25T18:22:28.741091",
     "exception": false,
     "start_time": "2024-08-25T18:22:28.728721",
     "status": "completed"
    },
    "tags": []
   },
   "outputs": [],
   "source": [
    "train_epoch_times_96 = checkpoint_data['train_epoch_times']\n",
    "full_epoch_times_96 = checkpoint_data['full_epoch_times']"
   ]
  },
  {
   "cell_type": "code",
   "execution_count": 9,
   "id": "a59012bc",
   "metadata": {
    "execution": {
     "iopub.execute_input": "2024-08-25T18:22:28.751875Z",
     "iopub.status.busy": "2024-08-25T18:22:28.750949Z",
     "iopub.status.idle": "2024-08-25T18:22:28.756544Z",
     "shell.execute_reply": "2024-08-25T18:22:28.755521Z"
    },
    "papermill": {
     "duration": 0.013253,
     "end_time": "2024-08-25T18:22:28.758581",
     "exception": false,
     "start_time": "2024-08-25T18:22:28.745328",
     "status": "completed"
    },
    "tags": []
   },
   "outputs": [],
   "source": [
    "data = np.array([ abs(sum(full_epoch_times_128)), abs(sum(full_epoch_times_96))])/3600"
   ]
  },
  {
   "cell_type": "code",
   "execution_count": 10,
   "id": "7a668c67",
   "metadata": {
    "execution": {
     "iopub.execute_input": "2024-08-25T18:22:28.769078Z",
     "iopub.status.busy": "2024-08-25T18:22:28.767882Z",
     "iopub.status.idle": "2024-08-25T18:22:29.015345Z",
     "shell.execute_reply": "2024-08-25T18:22:29.014174Z"
    },
    "papermill": {
     "duration": 0.255143,
     "end_time": "2024-08-25T18:22:29.017873",
     "exception": false,
     "start_time": "2024-08-25T18:22:28.762730",
     "status": "completed"
    },
    "tags": []
   },
   "outputs": [
    {
     "data": {
      "image/png": "[encoded data removed]",
      "text/plain": [
       "<Figure size 640x480 with 1 Axes>"
      ]
     },
     "metadata": {},
     "output_type": "display_data"
    }
   ],
   "source": [
    "plt.bar(x=x,height=data)\n",
    "plt.ylabel('Time in hrs')\n",
    "plt.xlabel('Model variants')\n",
    "for i in range(len(x)):\n",
    "        plt.text(i-0.07,data[i]+0.05,f'{data[i]:.2f} hrs')"
   ]
  },
  {
   "cell_type": "code",
   "execution_count": 11,
   "id": "123989cf",
   "metadata": {
    "execution": {
     "iopub.execute_input": "2024-08-25T18:22:29.028727Z",
     "iopub.status.busy": "2024-08-25T18:22:29.028303Z",
     "iopub.status.idle": "2024-08-25T18:22:29.035254Z",
     "shell.execute_reply": "2024-08-25T18:22:29.034185Z"
    },
    "papermill": {
     "duration": 0.015387,
     "end_time": "2024-08-25T18:22:29.037910",
     "exception": false,
     "start_time": "2024-08-25T18:22:29.022523",
     "status": "completed"
    },
    "tags": []
   },
   "outputs": [],
   "source": [
    "data = np.array([ abs(sum(train_epoch_times_128)), abs(sum(train_epoch_times_96))])/3600"
   ]
  },
  {
   "cell_type": "code",
   "execution_count": 12,
   "id": "e7d829a6",
   "metadata": {
    "execution": {
     "iopub.execute_input": "2024-08-25T18:22:29.049602Z",
     "iopub.status.busy": "2024-08-25T18:22:29.049076Z",
     "iopub.status.idle": "2024-08-25T18:22:29.268008Z",
     "shell.execute_reply": "2024-08-25T18:22:29.266858Z"
    },
    "papermill": {
     "duration": 0.227455,
     "end_time": "2024-08-25T18:22:29.270276",
     "exception": false,
     "start_time": "2024-08-25T18:22:29.042821",
     "status": "completed"
    },
    "tags": []
   },
   "outputs": [
    {
     "data": {
      "image/png": "[encoded data removed]",
      "text/plain": [
       "<Figure size 640x480 with 1 Axes>"
      ]
     },
     "metadata": {},
     "output_type": "display_data"
    }
   ],
   "source": [
    "plt.bar(x=x,height=data)\n",
    "plt.ylabel('Time in hrs')\n",
    "plt.xlabel('Model variants')\n",
    "for i in range(len(x)):\n",
    "        plt.text(i-0.07,data[i]+0.05,f'{data[i]:.2f} hrs')"
   ]
  },
  {
   "cell_type": "code",
   "execution_count": null,
   "id": "7e4cc8ff",
   "metadata": {
    "papermill": {
     "duration": 0.004552,
     "end_time": "2024-08-25T18:22:29.280056",
     "exception": false,
     "start_time": "2024-08-25T18:22:29.275504",
     "status": "completed"
    },
    "tags": []
   },
   "outputs": [],
   "source": []
  }
 ],
 "metadata": {
  "kaggle": {
   "accelerator": "none",
   "dataSources": [
    {
     "datasetId": 5494352,
     "sourceId": 9103712,
     "sourceType": "datasetVersion"
    },
    {
     "datasetId": 5425243,
     "sourceId": 9096441,
     "sourceType": "datasetVersion"
    }
   ],
   "dockerImageVersionId": 30761,
   "isGpuEnabled": false,
   "isInternetEnabled": true,
   "language": "python",
   "sourceType": "notebook"
  },
  "kernelspec": {
   "display_name": "Python 3",
   "language": "python",
   "name": "python3"
  },
  "language_info": {
   "codemirror_mode": {
    "name": "ipython",
    "version": 3
   },
   "file_extension": ".py",
   "mimetype": "text/x-python",
   "name": "python",
   "nbconvert_exporter": "python",
   "pygments_lexer": "ipython3",
   "version": "3.10.14"
  },
  "papermill": {
   "default_parameters": {},
   "duration": 26.051166,
   "end_time": "2024-08-25T18:22:30.307795",
   "environment_variables": {},
   "exception": null,
   "input_path": "__notebook__.ipynb",
   "output_path": "__notebook__.ipynb",
   "parameters": {},
   "start_time": "2024-08-25T18:22:04.256629",
   "version": "2.6.0"
  }
 },
 "nbformat": 4,
 "nbformat_minor": 5
}
